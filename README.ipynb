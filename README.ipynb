# Weather_API
-This API accepts a city or a zip code or Coordinates (Lat,Lon) or IP Address.   -The API returns the weather response in json format.
